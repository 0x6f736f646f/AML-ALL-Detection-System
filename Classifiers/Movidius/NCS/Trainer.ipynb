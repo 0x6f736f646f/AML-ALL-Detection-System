{
 "cells": [
  {
   "cell_type": "markdown",
   "metadata": {},
   "source": [
    "# Convolutional Neural Networks & Transfer Learning For Acute Myeloid/Lymphoblastic Leukemia Classification \n",
    "![Convolutional Neural Networks For Acute Myeloid Leukemia Detection](../../../Media/Images/banner.png)\n",
    "\n",
    "\n",
    "# Prerequisites\n",
    "Before you start this tutorial you should make sure your system meets minimum requirements and follow the installation guide found in the [AML/ALL Movidius NCS Classifier README](https://github.com/AMLResearchProject/AML-Detection-System/tree/master/Classifiers/Movidius/NCS \"AML/ALL Movidius NCS Classifier README\")  \n",
    "\n",
    "# Prepare The Dataset\n",
    "Assuming you have uploaded your data, you now need to sort the data ready for the training process. \n",
    "\n",
    "## Data Sorting Job\n",
    "You need to create a shell script (provided below) that is used to create a job for sorting your uploaded data on the AI DevCloud. Before you run the following block make sure you have followed all of the steps in __Upload Project To AI DevCloud__ above."
   ]
  },
  {
   "cell_type": "code",
   "execution_count": 1,
   "metadata": {},
   "outputs": [
    {
     "name": "stdout",
     "output_type": "stream",
     "text": [
      "Writing AML-DevCloud-Data\n"
     ]
    }
   ],
   "source": [
    "%%writefile AML-DevCloud-Data\n",
    "cd $PBS_O_WORKDIR\n",
    "echo \"* Compute server `hostname` on the AI DevCloud\"\n",
    "echo \"* Current directory ${PWD}.\"\n",
    "echo \"* Compute server's CPU model and number of logical CPUs:\"\n",
    "lscpu | grep 'Model name\\\\|^CPU(s)'\n",
    "echo \"* Python version:\"\n",
    "export PATH=/glob/intel-python/python3/bin:$PATH;\n",
    "which python\n",
    "python --version\n",
    "echo \"* This job sorts the data for the AML Classifier on AI DevCloud\"\n",
    "python Data.py\n",
    "sleep 10\n",
    "echo \"*Adios\"\n",
    "# Remember to have an empty line at the end of the file; otherwise the last command will not run\n"
   ]
  },
  {
   "cell_type": "markdown",
   "metadata": {},
   "source": [
    "## Check the data sorter job script was created"
   ]
  },
  {
   "cell_type": "code",
   "execution_count": 2,
   "metadata": {},
   "outputs": [
    {
     "name": "stdout",
     "output_type": "stream",
     "text": [
      "AML-DevCloud-Data  __init__.py  \u001b[0m\u001b[01;34mMedia\u001b[0m/  README.md  Trainer.ipynb\r\n",
      "\u001b[01;34mClasses\u001b[0m/           \u001b[01;34mLogs\u001b[0m/        \u001b[01;34mModel\u001b[0m/  \u001b[01;34mRequired\u001b[0m/  Trainer.py\r\n"
     ]
    }
   ],
   "source": [
    "%ls"
   ]
  },
  {
   "cell_type": "markdown",
   "metadata": {},
   "source": [
    "## Submit the data sorter job"
   ]
  },
  {
   "cell_type": "code",
   "execution_count": 7,
   "metadata": {},
   "outputs": [
    {
     "name": "stdout",
     "output_type": "stream",
     "text": [
      "22496.c009\r\n"
     ]
    }
   ],
   "source": [
    "!qsub AML-DevCloud-Data"
   ]
  },
  {
   "cell_type": "markdown",
   "metadata": {},
   "source": [
    "## Check the status of the job"
   ]
  },
  {
   "cell_type": "code",
   "execution_count": 8,
   "metadata": {},
   "outputs": [
    {
     "name": "stdout",
     "output_type": "stream",
     "text": [
      "Job ID                    Name             User            Time Use S Queue\r\n",
      "------------------------- ---------------- --------------- -------- - -----\r\n",
      "22494.c009                 ...ub-singleuser u13339          00:00:02 R jupyterhub     \r\n",
      "22496.c009                 ...DevCloud-Data u13339                 0 R batch          \r\n"
     ]
    }
   ],
   "source": [
    "!qstat"
   ]
  },
  {
   "cell_type": "markdown",
   "metadata": {},
   "source": [
    "## Get more details about the job"
   ]
  },
  {
   "cell_type": "code",
   "execution_count": 9,
   "metadata": {},
   "outputs": [
    {
     "name": "stdout",
     "output_type": "stream",
     "text": [
      "Job Id: 22496.c009\r\n",
      "    Job_Name = AML-DevCloud-Data\r\n",
      "    Job_Owner = u13339@c009-n002\r\n",
      "    job_state = R\r\n",
      "    queue = batch\r\n",
      "    server = c009\r\n",
      "    Checkpoint = u\r\n",
      "    ctime = Sat Feb 16 08:45:25 2019\r\n",
      "    Error_Path = c009-n002:/home/u13339/AML-Classifier/AML-DevCloud-Data.e2249\r\n",
      "\t6\r\n",
      "    exec_host = c009-n012/0-1\r\n",
      "    Hold_Types = n\r\n",
      "    Join_Path = n\r\n",
      "    Keep_Files = n\r\n",
      "    Mail_Points = a\r\n",
      "    mtime = Sat Feb 16 08:45:26 2019\r\n",
      "    Output_Path = c009-n002:/home/u13339/AML-Classifier/AML-DevCloud-Data.o224\r\n",
      "\t96\r\n",
      "    Priority = 0\r\n",
      "    qtime = Sat Feb 16 08:45:25 2019\r\n",
      "    Rerunable = True\r\n",
      "    Resource_List.nodect = 1\r\n",
      "    Resource_List.nodes = 1:ppn=2\r\n",
      "    Resource_List.walltime = 06:00:00\r\n",
      "    session_id = 190007\r\n",
      "    Variable_List = PBS_O_QUEUE=batch,PBS_O_HOME=/home/u13339,\r\n",
      "\tPBS_O_LOGNAME=u13339,\r\n",
      "\tPBS_O_PATH=/glob/intel-python/python3/bin/:/glob/intel-python/python3\r\n",
      "\t/bin/:/glob/intel-python/python2/bin/:/glob/development-tools/versions\r\n",
      "\t/intel-parallel-studio-2018-update3/compilers_and_libraries_2018.3.222\r\n",
      "\t/linux/bin/intel64:/glob/development-tools/versions/intel-parallel-stu\r\n",
      "\tdio-2018-update3/compilers_and_libraries_2018.3.222/linux/mpi/intel64/\r\n",
      "\tbin:/glob/intel-python/python3/bin/:/glob/intel-python/python2/bin/:/g\r\n",
      "\tlob/development-tools/versions/intel-parallel-studio-2018-update3/comp\r\n",
      "\tilers_and_libraries_2018.3.222/linux/bin/intel64:/glob/development-too\r\n",
      "\tls/versions/intel-parallel-studio-2018-update3/compilers_and_libraries\r\n",
      "\t_2018.3.222/linux/mpi/intel64/bin:/usr/local/sbin:/usr/local/bin:/usr/\r\n",
      "\tsbin:/usr/bin:/home/u13339/.local/bin:/home/u13339/bin:/home/u13339/.l\r\n",
      "\tocal/bin:/home/u13339/bin:/usr/local/bin:/bin,\r\n",
      "\tPBS_O_MAIL=/var/spool/mail/u13339,PBS_O_SHELL=/bin/bash,\r\n",
      "\tPBS_O_LANG=en_US.UTF-8,\r\n",
      "\tPBS_O_SUBMIT_FILTER=/usr/local/sbin/torque_submitfilter,\r\n",
      "\tPBS_O_WORKDIR=/home/u13339/AML-Classifier,PBS_O_HOST=c009-n002,\r\n",
      "\tPBS_O_SERVER=c009\r\n",
      "    euser = u13339\r\n",
      "    egroup = u13339\r\n",
      "    queue_type = E\r\n",
      "    etime = Sat Feb 16 08:45:25 2019\r\n",
      "    submit_args = AML-DevCloud-Data\r\n",
      "    start_time = Sat Feb 16 08:45:26 2019\r\n",
      "    Walltime.Remaining = 21591\r\n",
      "    start_count = 1\r\n",
      "    fault_tolerant = False\r\n",
      "    job_radix = 0\r\n",
      "    submit_host = c009-n002\r\n",
      "\r\n"
     ]
    }
   ],
   "source": [
    "!qstat -f 22496"
   ]
  },
  {
   "cell_type": "markdown",
   "metadata": {},
   "source": [
    "## Check for the output files"
   ]
  },
  {
   "cell_type": "code",
   "execution_count": 11,
   "metadata": {},
   "outputs": [
    {
     "name": "stdout",
     "output_type": "stream",
     "text": [
      "AML-DevCloud-Data         \u001b[0m\u001b[01;34mClasses\u001b[0m/     \u001b[01;34mLogs\u001b[0m/   README.md      Trainer.py\r\n",
      "AML-DevCloud-Data.e22496  Data.py      \u001b[01;34mMedia\u001b[0m/  \u001b[01;34mRequired\u001b[0m/\r\n",
      "AML-DevCloud-Data.o22496  __init__.py  \u001b[01;34mModel\u001b[0m/  Trainer.ipynb\r\n"
     ]
    }
   ],
   "source": [
    "%ls"
   ]
  },
  {
   "cell_type": "markdown",
   "metadata": {},
   "source": [
    "You should see similar to the below output in your .0XXXX file, you can ignore the error (.eXXXXX) file in this case unless you are having difficulties in which case this file may have important information.\n",
    "\n",
    "```\n",
    ">> Converting image 347/348 shard 1\n",
    "2019-02-17 01:42:30|convertToTFRecord|INFO: class_name: 0\n",
    "2019-02-17 01:42:30|convertToTFRecord|INFO: class_id: 0\n",
    "\n",
    ">> Converting image 348/348 shard 1\n",
    "2019-02-17 01:42:30|convertToTFRecord|INFO: class_name: 1\n",
    "2019-02-17 01:42:30|convertToTFRecord|INFO: class_id: 1\n",
    "\n",
    "2019-02-17 01:42:30|sortData|COMPLETE: Completed sorting data!\n",
    "*Adios\n",
    "\n",
    "########################################################################\n",
    "# End of output for job 22632.c009\n",
    "# Date: Sun Feb 17 01:42:40 PST 2019\n",
    "########################################################################\n",
    "```"
   ]
  },
  {
   "cell_type": "markdown",
   "metadata": {},
   "source": [
    "# Training job"
   ]
  },
  {
   "cell_type": "markdown",
   "metadata": {},
   "source": [
    "Now it is time to create your training job, the script required for this is almost identical to the above created script, all we need to do is change filename and the commandline argument."
   ]
  },
  {
   "cell_type": "code",
   "execution_count": 12,
   "metadata": {},
   "outputs": [
    {
     "name": "stdout",
     "output_type": "stream",
     "text": [
      "Writing AML-DevCloud-Trainer\n"
     ]
    }
   ],
   "source": [
    "%%writefile AML-DevCloud-Trainer\n",
    "cd $PBS_O_WORKDIR\n",
    "echo \"* Hello world from compute server `hostname` on the A.I. DevCloud!\"\n",
    "echo \"* The current directory is ${PWD}.\"\n",
    "echo \"* Compute server's CPU model and number of logical CPUs:\"\n",
    "lscpu | grep 'Model name\\\\|^CPU(s)'\n",
    "echo \"* Python available to us:\"\n",
    "export PATH=/glob/intel-python/python3/bin:$PATH;\n",
    "which python\n",
    "python --version\n",
    "echo \"* This job trains the AML Classifier on the Colfax Cluster\"\n",
    "python Trainer.py\n",
    "sleep 10\n",
    "echo \"*Adios\"\n",
    "# Remember to have an empty line at the end of the file; otherwise the last command will not run\n"
   ]
  },
  {
   "cell_type": "markdown",
   "metadata": {},
   "source": [
    "# Check the training job script was created"
   ]
  },
  {
   "cell_type": "markdown",
   "metadata": {},
   "source": [
    "Now check that the trainer job script was created successfully by executing the following block which will print out the files located in the current directory. If all was successful, you should see the file \"AML-DevCloud-Trainer\". You can also open this file to confirm that the contents are correct."
   ]
  },
  {
   "cell_type": "code",
   "execution_count": 17,
   "metadata": {},
   "outputs": [
    {
     "name": "stdout",
     "output_type": "stream",
     "text": [
      "AML-DevCloud-Data         \u001b[0m\u001b[01;34mClasses\u001b[0m/     \u001b[01;34mMedia\u001b[0m/     Trainer.ipynb\r\n",
      "AML-DevCloud-Data.e22496  Data.py      \u001b[01;34mModel\u001b[0m/     Trainer.py\r\n",
      "AML-DevCloud-Data.o22496  __init__.py  README.md\r\n",
      "AML-DevCloud-Trainer      \u001b[01;34mLogs\u001b[0m/        \u001b[01;34mRequired\u001b[0m/\r\n"
     ]
    }
   ],
   "source": [
    "%ls"
   ]
  },
  {
   "cell_type": "markdown",
   "metadata": {},
   "source": [
    "# Submit the training job script"
   ]
  },
  {
   "cell_type": "markdown",
   "metadata": {},
   "source": [
    "Now it is time to submit your training job script, this will queue the training script ready for execution and return your job ID. In this command we set the walltime to 24 hours, which should give our script enough time to fully complete without getting killed. "
   ]
  },
  {
   "cell_type": "code",
   "execution_count": 4,
   "metadata": {},
   "outputs": [
    {
     "name": "stdout",
     "output_type": "stream",
     "text": [
      "22501.c009\r\n"
     ]
    }
   ],
   "source": [
    "!qsub -l walltime=24:00:00 AML-DevCloud-Trainer"
   ]
  },
  {
   "cell_type": "markdown",
   "metadata": {},
   "source": [
    "# Check the status of the job"
   ]
  },
  {
   "cell_type": "code",
   "execution_count": 7,
   "metadata": {},
   "outputs": [
    {
     "name": "stdout",
     "output_type": "stream",
     "text": [
      "Job ID                    Name             User            Time Use S Queue\r\n",
      "------------------------- ---------------- --------------- -------- - -----\r\n",
      "22494.c009                 ...ub-singleuser u13339          00:00:08 R jupyterhub     \r\n",
      "22501.c009                 ...Cloud-Trainer u13339          05:11:29 R batch          \r\n"
     ]
    }
   ],
   "source": [
    "!qstat"
   ]
  },
  {
   "cell_type": "markdown",
   "metadata": {},
   "source": [
    "## Get more details about the job"
   ]
  },
  {
   "cell_type": "code",
   "execution_count": 9,
   "metadata": {},
   "outputs": [
    {
     "name": "stdout",
     "output_type": "stream",
     "text": [
      "Job Id: 22501.c009\r\n",
      "    Job_Name = AML-DevCloud-Trainer\r\n",
      "    Job_Owner = u13339@c009-n002\r\n",
      "    resources_used.cput = 46:24:14\r\n",
      "    resources_used.energy_used = 0\r\n",
      "    resources_used.mem = 3095316kb\r\n",
      "    resources_used.vmem = 18045828kb\r\n",
      "    resources_used.walltime = 01:57:03\r\n",
      "    job_state = R\r\n",
      "    queue = batch\r\n",
      "    server = c009\r\n",
      "    Checkpoint = u\r\n",
      "    ctime = Sat Feb 16 08:59:17 2019\r\n",
      "    Error_Path = c009-n002:/home/u13339/AML-Classifier/AML-DevCloud-Trainer.e2\r\n",
      "\t2501\r\n",
      "    exec_host = c009-n012/0-1\r\n",
      "    Hold_Types = n\r\n",
      "    Join_Path = n\r\n",
      "    Keep_Files = n\r\n",
      "    Mail_Points = a\r\n",
      "    mtime = Sat Feb 16 08:59:18 2019\r\n",
      "    Output_Path = c009-n002:/home/u13339/AML-Classifier/AML-DevCloud-Trainer.o\r\n",
      "\t22501\r\n",
      "    Priority = 0\r\n",
      "    qtime = Sat Feb 16 08:59:17 2019\r\n",
      "    Rerunable = True\r\n",
      "    Resource_List.nodect = 1\r\n",
      "    Resource_List.nodes = 1:ppn=2\r\n",
      "    Resource_List.walltime = 24:00:00\r\n",
      "    session_id = 196797\r\n",
      "    Variable_List = PBS_O_QUEUE=batch,PBS_O_HOME=/home/u13339,\r\n",
      "\tPBS_O_LOGNAME=u13339,\r\n",
      "\tPBS_O_PATH=/glob/intel-python/python3/bin/:/glob/intel-python/python3\r\n",
      "\t/bin/:/glob/intel-python/python2/bin/:/glob/development-tools/versions\r\n",
      "\t/intel-parallel-studio-2018-update3/compilers_and_libraries_2018.3.222\r\n",
      "\t/linux/bin/intel64:/glob/development-tools/versions/intel-parallel-stu\r\n",
      "\tdio-2018-update3/compilers_and_libraries_2018.3.222/linux/mpi/intel64/\r\n",
      "\tbin:/glob/intel-python/python3/bin/:/glob/intel-python/python2/bin/:/g\r\n",
      "\tlob/development-tools/versions/intel-parallel-studio-2018-update3/comp\r\n",
      "\tilers_and_libraries_2018.3.222/linux/bin/intel64:/glob/development-too\r\n",
      "\tls/versions/intel-parallel-studio-2018-update3/compilers_and_libraries\r\n",
      "\t_2018.3.222/linux/mpi/intel64/bin:/usr/local/sbin:/usr/local/bin:/usr/\r\n",
      "\tsbin:/usr/bin:/home/u13339/.local/bin:/home/u13339/bin:/home/u13339/.l\r\n",
      "\tocal/bin:/home/u13339/bin:/usr/local/bin:/bin,\r\n",
      "\tPBS_O_MAIL=/var/spool/mail/u13339,PBS_O_SHELL=/bin/bash,\r\n",
      "\tPBS_O_LANG=en_US.UTF-8,\r\n",
      "\tPBS_O_SUBMIT_FILTER=/usr/local/sbin/torque_submitfilter,\r\n",
      "\tPBS_O_WORKDIR=/home/u13339/AML-Classifier,PBS_O_HOST=c009-n002,\r\n",
      "\tPBS_O_SERVER=c009\r\n",
      "    euser = u13339\r\n",
      "    egroup = u13339\r\n",
      "    queue_type = E\r\n",
      "    etime = Sat Feb 16 08:59:17 2019\r\n",
      "    submit_args = -l walltime=24:00:00 AML-DevCloud-Trainer\r\n",
      "    start_time = Sat Feb 16 08:59:18 2019\r\n",
      "    Walltime.Remaining = 79339\r\n",
      "    start_count = 1\r\n",
      "    fault_tolerant = False\r\n",
      "    job_radix = 0\r\n",
      "    submit_host = c009-n002\r\n",
      "\r\n"
     ]
    }
   ],
   "source": [
    "!qstat -f 22501"
   ]
  },
  {
   "cell_type": "markdown",
   "metadata": {},
   "source": [
    "# Check the results\n",
    "After training we should check the resuts of the output to see how our model did during training. In my case the job ID was 22501 so my output files were .e22501 for errors, and .o22501 for program output.\n",
    "\n",
    "In my case I trained the network with 580 AML negative and 580 AML positive examples using the augmented dataset created in the previous tutorial, saving 20 of the original images for testing. The following is the end of the output from the training job:\n",
    "\n",
    "```\n",
    "INFO:tensorflow: Epch 40.86 Glb Stp 3230: Loss: 1.2209 (4.12 sec/step)\n",
    "INFO:tensorflow: Epch 40.88 Glb Stp 3231: Loss: 0.7501 (3.81 sec/step)\n",
    "INFO:tensorflow: Epch 40.89 Glb Stp 3232: Loss: 1.2146 (4.37 sec/step)\n",
    "INFO:tensorflow: Epch 40.90 Glb Stp 3233: Loss: 0.8747 (4.33 sec/step)\n",
    "INFO:tensorflow: Epch 40.91 Glb Stp 3234: Loss: 0.7138 (4.19 sec/step)\n",
    "INFO:tensorflow: Epch 40.93 Glb Stp 3235: Loss: 0.7585 (4.16 sec/step)\n",
    "INFO:tensorflow: Epch 40.94 Glb Stp 3236: Loss: 0.8014 (4.05 sec/step)\n",
    "INFO:tensorflow: Epch 40.95 Glb Stp 3237: Loss: 0.7068 (3.61 sec/step)\n",
    "INFO:tensorflow: Epch 40.96 Glb Stp 3238: Loss: 0.7131 (4.04 sec/step)\n",
    "INFO:tensorflow: Epch 40.98 Glb Stp 3239: Loss: 0.7848 (4.47 sec/step)\n",
    "INFO:tensorflow: Epch 40.99 Glb Stp 3240: Loss: 0.6900 (4.49 sec/step)\n",
    "INFO:tensorflow: Final Loss: 0.6899819\n",
    "INFO:tensorflow: Final Accuracy: 0.9050926\n",
    "INFO:tensorflow: Finished training! Saving model to disk now.\n",
    "INFO:tensorflow: Restoring parameters from Model/_logs/model.ckpt-3136\n",
    "INFO:tensorflow: Froze 378 variables.\n",
    "```\n",
    "\n",
    "The output shows that I have an overall training accuracy of 0.9050926.\n",
    "\n",
    "\n",
    "# Download required files\n",
    "Now you need to download the created graph file, __Model/_logs/__ and __Model/Data/labels.txt__ to your NCS development machine. You need to have the full SDK installed opposed to the API.\n",
    "\n",
    "\n",
    "# Convert the graph\n",
    "Once you have the graph on your NCS dev machine move it to your __Model__ directory and then you can issue the following command to generate a graph that is compatible with the NCS and save it to __Model/AML.graph__. \n",
    "\n",
    "```\n",
    "mvNCCompile Model/AMLGraph.pb -in=input -on=InceptionV3/Predictions/Softmax -o Model/AML.graph\n",
    "```"
   ]
  },
  {
   "cell_type": "markdown",
   "metadata": {},
   "source": [
    "# References\n",
    "\n",
    "- [Acute Myeloid/Lymphoblastic Leukemia AI Research Project](https://www.facebook.com/AMLResearchProject)\n",
    "- [Acute Lymphoblastic Leukemia Image Database for Image Processing](https://homes.di.unimi.it/scotti/all/)\n",
    "- [Intel® AI DevCloud](https://software.intel.com/en-us/ai-academy/devcloud)\n",
    "- [Tensorflow](https://www.tensorflow.org/)\n",
    "- [NCSDK](https://github.com/movidius/ncsdk)"
   ]
  },
  {
   "cell_type": "markdown",
   "metadata": {},
   "source": [
    "# About the author\n",
    "Adam is a [Bigfinite](https://www.bigfinite.com \"Bigfinite\") IoT Network Engineer, part of the team that works on the core IoT software. In his spare time he is an [Intel Software Innovator](https://software.intel.com/en-us/intel-software-innovators/overview \"Intel Software Innovator\") in the fields of Internet of Things, Artificial Intelligence and Virtual Reality.\n",
    "\n",
    "[![Adam Milton-Barker: BigFinte IoT Network Engineer & Intel® Software Innovator](../../../Media/Images/Adam-Milton-Barker.jpg)](https://github.com/AdamMiltonBarker)"
   ]
  }
 ],
 "metadata": {
  "kernelspec": {
   "display_name": "Python 3",
   "language": "python",
   "name": "python3"
  },
  "language_info": {
   "codemirror_mode": {
    "name": "ipython",
    "version": 3
   },
   "file_extension": ".py",
   "mimetype": "text/x-python",
   "name": "python",
   "nbconvert_exporter": "python",
   "pygments_lexer": "ipython3",
   "version": "3.5.2"
  }
 },
 "nbformat": 4,
 "nbformat_minor": 2
}
